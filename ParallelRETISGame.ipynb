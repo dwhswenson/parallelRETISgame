{
 "cells": [
  {
   "cell_type": "markdown",
   "metadata": {},
   "source": [
    "# The Parallel RETIS Game\n",
    "\n",
    "Think you can find a better strategy for doing a parallel replica exchange TIS? Here's a simple game to test your ideas.\n",
    "\n",
    "\n",
    "\n",
    "## Moves\n",
    "\n",
    "So far, we only have two kinds of moves: shooting and replica exchange. Other moves, such as the minus move, might get added later to make this more realistic. To simplify both, we actually label the moves according to the **replicas** they apply to, not the ensembles. This means we don't actually have to track the replica exchange process. (Adding the minus move might require changing that).\n",
    "\n",
    "Each move is associated with a cost function. We assume that replica exchange moves are fast, and so they have a cost of 1. Shooting moves draw their cost from a distribution. For the example game shown below, that distribution is designed to look like ???.\n",
    "\n",
    "## Strategies\n",
    "\n",
    "This is where the player can (and should) design his or her own ideas. Strategies implement a few methods:\n",
    "\n",
    "* `pick_next_move(move_queue)` takes a list of upcoming moves and picks which one to do\n",
    "* `learn_result(move, time)` is called from within the game, and tells the `Strategy` how long a given move took to return\n",
    "\n",
    "## Move Strategies\n",
    "\n",
    "Of course, the nature of the move strategy can also have an effect. Fewer replica exchange choices (for example, only nearest-neighbors) \n",
    "\n",
    "## Game\n",
    "\n",
    "The `Game` object is also what plays the game. Internally, the game is played like this:\n",
    "\n",
    "1. A set of `n_steps` moves is generated. This would be the order of all trial moves.\n",
    "2. At each time, the \n",
    "\n",
    "\n",
    "## Goal\n",
    "\n",
    "There are two competing goals here: first, you want to have the smallest wall time. Second, you want to have the highest efficiency.\n",
    "\n",
    "Getting a better wall time is trivial if you add more nodes, but that is likely to cost you in efficiency. Getting better efficiency is trivial from using fewer nodes, but that will cost you in wall time."
   ]
  },
  {
   "cell_type": "markdown",
   "metadata": {},
   "source": [
    "# Let's play!\n",
    "\n",
    "Here's a quick example of how to play the parallel RETIS game, using `DefaultStrategy`. The `DefaultStrategy` is to always do the next move as soon as possible. "
   ]
  },
  {
   "cell_type": "code",
   "execution_count": 1,
   "metadata": {
    "collapsed": true
   },
   "outputs": [],
   "source": [
    "import parallel_RETIS_game as game"
   ]
  },
  {
   "cell_type": "markdown",
   "metadata": {},
   "source": [
    "Now we set up the move scheme for our game. It's only fair to compare two strategies with the same move scheme. However, different move schemes shou"
   ]
  },
  {
   "cell_type": "code",
   "execution_count": 2,
   "metadata": {
    "collapsed": false
   },
   "outputs": [],
   "source": [
    "cost_shoot0 = game.ShootingCost(0,0,0)\n",
    "cost_shoot1 = game.ShootingCost(1,1,1)\n",
    "cost_shoot2 = game.ShootingCost(2,2,2)\n",
    "shooting0 = game.ShootingMove(cost_function=cost_shoot0,\n",
    "                              depends_on=[0])\n",
    "shooting1 = game.ShootingMove(cost_function=cost_shoot1,\n",
    "                              depends_on=[1])\n",
    "shooting2 = game.ShootingMove(cost_function=cost_shoot2,\n",
    "                              depends_on=[2])\n",
    "shooting3 = game.ShootingMove(cost_function=cost_shoot0,\n",
    "                              depends_on=[0])\n",
    "shooting4 = game.ShootingMove(cost_function=cost_shoot1,\n",
    "                              depends_on=[1])\n",
    "shooting5 = game.ShootingMove(cost_function=cost_shoot2,\n",
    "                              depends_on=[2])\n",
    "\n",
    "repex01 = game.ReplicaExchangeMove(0, 1)\n",
    "repex12 = game.ReplicaExchangeMove(1, 2)\n",
    "repex34 = game.ReplicaExchangeMove(3, 4)\n",
    "repex45 = game.ReplicaExchangeMove(4, 5)\n",
    "\n",
    "moves = [shooting0, shooting1, shooting2, shooting3, shooting4, shooting5, repex01, repex12, repex34, repex45]"
   ]
  },
  {
   "cell_type": "code",
   "execution_count": 3,
   "metadata": {
    "collapsed": false
   },
   "outputs": [],
   "source": [
    "# this is where you should create your own strategy\n",
    "strategy = game.DefaultStrategy()"
   ]
  },
  {
   "cell_type": "code",
   "execution_count": 4,
   "metadata": {
    "collapsed": false,
    "scrolled": true
   },
   "outputs": [],
   "source": [
    "mygame = game.Game(moves, strategy, n_nodes=4)\n",
    "mygame.play(500)"
   ]
  },
  {
   "cell_type": "code",
   "execution_count": 5,
   "metadata": {
    "collapsed": false
   },
   "outputs": [
    {
     "name": "stdout",
     "output_type": "stream",
     "text": [
      "Wall time: 1321\n",
      "CPU time: 5284\n",
      "Wasted cycles: 1895\n",
      "Efficiency: 0.641370174111\n"
     ]
    }
   ],
   "source": [
    "mygame.analysis(mygame.history)"
   ]
  },
  {
   "cell_type": "code",
   "execution_count": null,
   "metadata": {
    "collapsed": true
   },
   "outputs": [],
   "source": []
  }
 ],
 "metadata": {
  "kernelspec": {
   "display_name": "Python 2",
   "language": "python",
   "name": "python2"
  },
  "language_info": {
   "codemirror_mode": {
    "name": "ipython",
    "version": 2
   },
   "file_extension": ".py",
   "mimetype": "text/x-python",
   "name": "python",
   "nbconvert_exporter": "python",
   "pygments_lexer": "ipython2",
   "version": "2.7.11"
  }
 },
 "nbformat": 4,
 "nbformat_minor": 0
}
